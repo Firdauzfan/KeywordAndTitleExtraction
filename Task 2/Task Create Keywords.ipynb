{
 "cells": [
  {
   "cell_type": "markdown",
   "metadata": {},
   "source": [
    "# Task 2 : Create Keywords from Content"
   ]
  },
  {
   "cell_type": "markdown",
   "metadata": {},
   "source": [
    "## Load Library"
   ]
  },
  {
   "cell_type": "code",
   "execution_count": 1,
   "metadata": {},
   "outputs": [],
   "source": [
    "import csv,numpy,pandas,nltk\n",
    "import sklearn\n",
    "from sklearn.feature_extraction.text import CountVectorizer,TfidfVectorizer\n",
    "from nltk import sent_tokenize, word_tokenize, pos_tag\n",
    "\n",
    "import math\n",
    "from textblob import TextBlob as tb"
   ]
  },
  {
   "cell_type": "markdown",
   "metadata": {},
   "source": [
    "## Load Data"
   ]
  },
  {
   "cell_type": "code",
   "execution_count": 2,
   "metadata": {},
   "outputs": [
    {
     "data": {
      "text/html": [
       "<div>\n",
       "<style scoped>\n",
       "    .dataframe tbody tr th:only-of-type {\n",
       "        vertical-align: middle;\n",
       "    }\n",
       "\n",
       "    .dataframe tbody tr th {\n",
       "        vertical-align: top;\n",
       "    }\n",
       "\n",
       "    .dataframe thead th {\n",
       "        text-align: right;\n",
       "    }\n",
       "</style>\n",
       "<table border=\"1\" class=\"dataframe\">\n",
       "  <thead>\n",
       "    <tr style=\"text-align: right;\">\n",
       "      <th></th>\n",
       "      <th>article_id</th>\n",
       "      <th>article_topic</th>\n",
       "      <th>article_content</th>\n",
       "    </tr>\n",
       "  </thead>\n",
       "  <tbody>\n",
       "    <tr>\n",
       "      <th>0</th>\n",
       "      <td>93205794</td>\n",
       "      <td>Internasional</td>\n",
       "      <td>Kepolisian Inggris tengah memburu pelaku yang...</td>\n",
       "    </tr>\n",
       "    <tr>\n",
       "      <th>1</th>\n",
       "      <td>93186698</td>\n",
       "      <td>Ekonomi</td>\n",
       "      <td>Seluruh layanan transaksi di jalan tol akan m...</td>\n",
       "    </tr>\n",
       "    <tr>\n",
       "      <th>2</th>\n",
       "      <td>93191463</td>\n",
       "      <td>Teknologi</td>\n",
       "      <td>\\nHari ini, Rabu (23/8), ternyata menjadi har...</td>\n",
       "    </tr>\n",
       "    <tr>\n",
       "      <th>3</th>\n",
       "      <td>93219292</td>\n",
       "      <td>Ekonomi</td>\n",
       "      <td>Saat ini Indonesia hanya memiliki cadangan ba...</td>\n",
       "    </tr>\n",
       "    <tr>\n",
       "      <th>4</th>\n",
       "      <td>343106</td>\n",
       "      <td>Hiburan</td>\n",
       "      <td>Hari ini, Selasa (1/8), pedangdut Ridho Rhoma...</td>\n",
       "    </tr>\n",
       "  </tbody>\n",
       "</table>\n",
       "</div>"
      ],
      "text/plain": [
       "   article_id  article_topic  \\\n",
       "0    93205794  Internasional   \n",
       "1    93186698        Ekonomi   \n",
       "2    93191463      Teknologi   \n",
       "3    93219292        Ekonomi   \n",
       "4      343106        Hiburan   \n",
       "\n",
       "                                     article_content  \n",
       "0   Kepolisian Inggris tengah memburu pelaku yang...  \n",
       "1   Seluruh layanan transaksi di jalan tol akan m...  \n",
       "2   \\nHari ini, Rabu (23/8), ternyata menjadi har...  \n",
       "3   Saat ini Indonesia hanya memiliki cadangan ba...  \n",
       "4   Hari ini, Selasa (1/8), pedangdut Ridho Rhoma...  "
      ]
     },
     "execution_count": 2,
     "metadata": {},
     "output_type": "execute_result"
    }
   ],
   "source": [
    "#Baca data CSV dengan pandas\n",
    "df = pandas.read_csv('../data/ds_asg_data.csv')\n",
    "\n",
    "df.head()"
   ]
  },
  {
   "cell_type": "code",
   "execution_count": 3,
   "metadata": {},
   "outputs": [
    {
     "name": "stdout",
     "output_type": "stream",
     "text": [
      "article_topic\n",
      "Bisnis             25\n",
      "Bojonegoro        260\n",
      "Ekonomi          1762\n",
      "Haji             1497\n",
      "Health            131\n",
      "Hiburan          1466\n",
      "Horor              50\n",
      "Hukum              85\n",
      "Internasional     741\n",
      "Jakarta            12\n",
      "K-Pop              61\n",
      "KPK                37\n",
      "Kesehatan         195\n",
      "Keuangan           14\n",
      "Lifestyle         572\n",
      "MotoGP             35\n",
      "Obat-obatan        58\n",
      "Otomotif          174\n",
      "Pendidikan         70\n",
      "Personal           81\n",
      "Pilgub Jatim       25\n",
      "Politik           104\n",
      "Regional           35\n",
      "Sains             174\n",
      "Sejarah            70\n",
      "Sepak Bola       1184\n",
      "Sports            435\n",
      "Teknologi         571\n",
      "Travel             76\n",
      "dtype: int64\n"
     ]
    }
   ],
   "source": [
    "#View berdasar topic\n",
    "groupby= df.groupby('article_topic').size()\n",
    "print (groupby)"
   ]
  },
  {
   "cell_type": "markdown",
   "metadata": {},
   "source": [
    "View berdasarkan topik dan didapatkan 29 topik dengan topik Ekonomi mempunyai proporsi paling banyak, dan dapat dilihat data tersebut tidak proporsional"
   ]
  },
  {
   "cell_type": "markdown",
   "metadata": {},
   "source": [
    "Dicek dahulu apakah data terdapat missing value"
   ]
  },
  {
   "cell_type": "code",
   "execution_count": 4,
   "metadata": {},
   "outputs": [
    {
     "name": "stdout",
     "output_type": "stream",
     "text": [
      "(10000,)\n",
      "      article_id  article_topic  article_content\n",
      "0          False          False            False\n",
      "1          False          False            False\n",
      "2          False          False            False\n",
      "3          False          False            False\n",
      "4          False          False            False\n",
      "5          False          False            False\n",
      "6          False          False            False\n",
      "7          False          False            False\n",
      "8          False          False            False\n",
      "9          False          False            False\n",
      "10         False          False            False\n",
      "11         False          False            False\n",
      "12         False          False            False\n",
      "13         False          False            False\n",
      "14         False          False            False\n",
      "15         False          False            False\n",
      "16         False          False            False\n",
      "17         False          False            False\n",
      "18         False          False            False\n",
      "19         False          False            False\n",
      "20         False          False            False\n",
      "21         False          False            False\n",
      "22         False          False            False\n",
      "23         False          False            False\n",
      "24         False          False            False\n",
      "25         False          False            False\n",
      "26         False          False            False\n",
      "27         False          False            False\n",
      "28         False          False            False\n",
      "29         False          False            False\n",
      "...          ...            ...              ...\n",
      "9970       False          False            False\n",
      "9971       False          False            False\n",
      "9972       False          False            False\n",
      "9973       False          False            False\n",
      "9974       False          False            False\n",
      "9975       False          False            False\n",
      "9976       False          False            False\n",
      "9977       False          False            False\n",
      "9978       False          False            False\n",
      "9979       False          False            False\n",
      "9980       False          False            False\n",
      "9981       False          False            False\n",
      "9982       False          False            False\n",
      "9983       False          False            False\n",
      "9984       False          False            False\n",
      "9985       False          False            False\n",
      "9986       False          False            False\n",
      "9987       False          False            False\n",
      "9988       False          False            False\n",
      "9989       False          False            False\n",
      "9990       False          False            False\n",
      "9991       False          False            False\n",
      "9992       False          False            False\n",
      "9993       False          False            False\n",
      "9994       False          False            False\n",
      "9995       False          False            False\n",
      "9996       False          False            False\n",
      "9997       False          False            False\n",
      "9998       False          False            False\n",
      "9999       False          False            False\n",
      "\n",
      "[10000 rows x 3 columns]\n",
      "article_id          0\n",
      "article_topic       0\n",
      "article_content    36\n",
      "dtype: int64\n"
     ]
    }
   ],
   "source": [
    "#Cek data dan normalisasi\n",
    "#cek bila ada yang kosong\n",
    "cek_bentuk= df['article_content'].shape\n",
    "cek_null=df.isnull()\n",
    "cek_jumlah_null=df.isnull().sum()\n",
    "\n",
    "print (cek_bentuk)\n",
    "print (cek_null)\n",
    "print (cek_jumlah_null)"
   ]
  },
  {
   "cell_type": "markdown",
   "metadata": {},
   "source": [
    "Setelah cek data apakah ada data yang null atau tidak, karena ada data yang null/missing value maka perlu dinormalisasi terlebih dahulu."
   ]
  },
  {
   "cell_type": "markdown",
   "metadata": {},
   "source": [
    "Kita hapus data yang terdapat missing value"
   ]
  },
  {
   "cell_type": "code",
   "execution_count": 5,
   "metadata": {},
   "outputs": [
    {
     "name": "stdout",
     "output_type": "stream",
     "text": [
      "(9964,)\n",
      "      article_id  article_topic  article_content\n",
      "0          False          False            False\n",
      "1          False          False            False\n",
      "2          False          False            False\n",
      "3          False          False            False\n",
      "4          False          False            False\n",
      "5          False          False            False\n",
      "6          False          False            False\n",
      "7          False          False            False\n",
      "8          False          False            False\n",
      "9          False          False            False\n",
      "10         False          False            False\n",
      "11         False          False            False\n",
      "12         False          False            False\n",
      "13         False          False            False\n",
      "14         False          False            False\n",
      "15         False          False            False\n",
      "16         False          False            False\n",
      "17         False          False            False\n",
      "18         False          False            False\n",
      "19         False          False            False\n",
      "20         False          False            False\n",
      "21         False          False            False\n",
      "22         False          False            False\n",
      "23         False          False            False\n",
      "24         False          False            False\n",
      "25         False          False            False\n",
      "26         False          False            False\n",
      "27         False          False            False\n",
      "28         False          False            False\n",
      "29         False          False            False\n",
      "...          ...            ...              ...\n",
      "9970       False          False            False\n",
      "9971       False          False            False\n",
      "9972       False          False            False\n",
      "9973       False          False            False\n",
      "9974       False          False            False\n",
      "9975       False          False            False\n",
      "9976       False          False            False\n",
      "9977       False          False            False\n",
      "9978       False          False            False\n",
      "9979       False          False            False\n",
      "9980       False          False            False\n",
      "9981       False          False            False\n",
      "9982       False          False            False\n",
      "9983       False          False            False\n",
      "9984       False          False            False\n",
      "9985       False          False            False\n",
      "9986       False          False            False\n",
      "9987       False          False            False\n",
      "9988       False          False            False\n",
      "9989       False          False            False\n",
      "9990       False          False            False\n",
      "9991       False          False            False\n",
      "9992       False          False            False\n",
      "9993       False          False            False\n",
      "9994       False          False            False\n",
      "9995       False          False            False\n",
      "9996       False          False            False\n",
      "9997       False          False            False\n",
      "9998       False          False            False\n",
      "9999       False          False            False\n",
      "\n",
      "[9964 rows x 3 columns]\n",
      "article_id         0\n",
      "article_topic      0\n",
      "article_content    0\n",
      "dtype: int64\n"
     ]
    }
   ],
   "source": [
    "#Drop/Hapus data yang kosong\n",
    "modifiedData = df.dropna()\n",
    "\n",
    "cek_bentuk= modifiedData['article_content'].shape\n",
    "cek_null=modifiedData.isnull()\n",
    "cek_jumlah_null=modifiedData.isnull().sum()\n",
    "\n",
    "#Save Data yang sudah dimodifikasi ->opsional\n",
    "modifiedData.to_csv('modifiedData.csv',index=False)\n",
    "\n",
    "print (cek_bentuk)\n",
    "print (cek_null)\n",
    "print (cek_jumlah_null)"
   ]
  },
  {
   "cell_type": "markdown",
   "metadata": {},
   "source": [
    "Kita Hapus data yang missing value, maka 36 data yang kosong tersebut dihilangkan. Lalu kita load lagi data yang telah dinormalisasi."
   ]
  },
  {
   "cell_type": "code",
   "execution_count": 6,
   "metadata": {},
   "outputs": [],
   "source": [
    "#Baca data CSV dengan pandas\n",
    "df = pandas.read_csv('modifiedData.csv')\n",
    "Id=df['article_id']\n",
    "Con= df['article_content']\n",
    "Topic = df['article_topic']"
   ]
  },
  {
   "cell_type": "markdown",
   "metadata": {},
   "source": [
    "Setelah itu dilakukan tahap tokenisasi yaitu memecah kalimat menjadi kata-kata yang dilakukan untuk menjadikan sebuah kalimat menjadi lebih bermakna."
   ]
  },
  {
   "cell_type": "code",
   "execution_count": 7,
   "metadata": {},
   "outputs": [],
   "source": [
    "#Pisahkan kata/tokenize data\n",
    "\n",
    "PK= [nltk.word_tokenize(PisahKata) for PisahKata in df['article_content']]"
   ]
  },
  {
   "cell_type": "markdown",
   "metadata": {},
   "source": [
    "Setelah itu masuk ketahap stopword removal/filtrasi yaitu filtrasi adalah tahap mengambil kata-kata penting"
   ]
  },
  {
   "cell_type": "code",
   "execution_count": 8,
   "metadata": {},
   "outputs": [],
   "source": [
    "stopword = ['ada','adalah','adanya','adapun','agak','agaknya','agar','akan','akankah',\n",
    "                 'akhir','akhiri','akhirnya','aku','akulah','amat','amatlah','anda','andalah',\n",
    "                 'antar','antara','antaranya','apa','apaan','apabila','apakah','apalagi','apatah',\n",
    "                 'artinya','asal','asalkan','atas','atau','ataukah','ataupun','awal','awalnya','bagai',\n",
    "                 'bagaikan','bagaimana','bagaimanakah','bagaimanapun','bagi','bagian','bahkan','bahwa',\n",
    "                 'bahwasanya','baik','bakal','bakalan','balik','banyak','bapak','baru','bawah','beberapa',\n",
    "                 'begini','beginian','beginikah','beginilah','begitu','begitukah','begitulah','begitupun',\n",
    "                 'bekerja','belakang','belakangan','belum','belumlah','benar','benarkah','benarlah','berada',\n",
    "                 'berakhir','berakhirlah','berakhirnya','berapa','berapakah','berapalah','berapapun','berarti',\n",
    "                 'berawal','berbagai','berdatangan','beri','berikan','berikut','berikutnya','berjumlah','berkali-kali',\n",
    "                 'berkata','berkehendak','berkeinginan','berkenaan','berlainan','berlalu','berlangsung','berlebihan','bermacam',\n",
    "                 'bermacam-macam','bermaksud','bermula','bersama','bersama-sama','bersiap','bersiap-siap','bertanya','bertanya-tanya','berturut','berturut-turut','bertutur','berujar','berupa','besar','betul','betulkah','biasa','biasanya','bila','bilakah','bisa','bisakah','boleh','bolehkah','bolehlah','buat','bukan','bukankah','bukanlah','bukannya','bulan','bung','cara','caranya','cukup','cukupkah','cukuplah','cuma','dahulu','dalam','dan','dapat','dari','daripada','datang','dekat','demi','demikian','demikianlah','dengan','depan','di','dia','diakhiri','diakhirinya','dialah','diantara','diantaranya','diberi','diberikan','diberikannya','dibuat','dibuatnya','didapat','didatangkan','digunakan','diibaratkan','diibaratkannya','diingat','diingatkan','diinginkan','dijawab','dijelaskan','dijelaskannya','dikarenakan','dikatakan','dikatakannya','dikerjakan','diketahui','diketahuinya','dikira','dilakukan','dilalui','dilihat','dimaksud','dimaksudkan','dimaksudkannya','dimaksudnya','diminta','dimintai','dimisalkan','dimulai','dimulailah','dimulainya','dimungkinkan','dini','dipastikan','diperbuat','diperbuatnya','dipergunakan','diperkirakan','diperlihatkan','diperlukan','diperlukannya','dipersoalkan','dipertanyakan','dipunyai','diri','dirinya','disampaikan','disebut','disebutkan','disebutkannya','disini','disinilah','ditambahkan','ditandaskan','ditanya','ditanyai','ditanyakan','ditegaskan','ditujukan','ditunjuk','ditunjuki','ditunjukkan','ditunjukkannya','ditunjuknya','dituturkan','dituturkannya','diucapkan','diucapkannya','diungkapkan','dong','dua','dulu','empat','enggak','enggaknya','entah','entahlah','guna','gunakan','hal','hampir','hanya','hanyalah','hari','harus','haruslah','harusnya','hendak','hendaklah','hendaknya','hingga','ia','ialah','ibarat','ibaratkan','ibaratnya','ibu','ikut','ingat','ingat-ingat','ingin','inginkah','inginkan','ini','inikah','inilah','itu','itukah','itulah','jadi','jadilah','jadinya','jangan','jangankan','janganlah','jauh','jawab','jawaban','jawabnya','jelas','jelaskan','jelaslah','jelasnya','jika','jikalau','juga','jumlah','jumlahnya','justru','kala','kalau','kalaulah','kalaupun','kalian','kami','kamilah','kamu','kamulah','kan','kapan','kapankah','kapanpun','karena','karenanya','kasus','kata','katakan','katakanlah','katanya','ke','keadaan','kebetulan','kecil','kedua','keduanya','keinginan','kelamaan','kelihatan','kelihatannya','kelima','keluar','kembali','kemudian','kemungkinan','kemungkinannya','kenapa','kepada','kepadanya','kesampaian','keseluruhan','keseluruhannya','keterlaluan','ketika','khususnya','kini','kinilah','kira','kira-kira','kiranya','kita','kitalah','kok','kurang','lagi','lagian','lah','lain','lainnya','lalu','lama','lamanya','lanjut','lanjutnya','lebih','lewat','lima','luar','macam','maka','makanya','makin','malah','malahan','mampu','mampukah','mana','manakala','manalagi','masa','masalah','masalahnya','masih','masihkah','masing','masing-masing','mau','maupun','melainkan','melakukan','melalui','melihat','melihatnya','memang','memastikan','memberi','memberikan','membuat','memerlukan','memihak','meminta','memintakan','memisalkan','memperbuat','mempergunakan','memperkirakan','memperlihatkan','mempersiapkan','mempersoalkan','mempertanyakan','mempunyai','memulai','memungkinkan','menaiki','menambahkan','menandaskan','menanti','menanti-nanti','menantikan','menanya','menanyai','menanyakan','mendapat','mendapatkan','mendatang','mendatangi','mendatangkan','menegaskan','mengakhiri','mengapa','mengatakan','mengatakannya','mengenai','mengerjakan','mengetahui','menggunakan','menghendaki','mengibaratkan','mengibaratkannya','mengingat','mengingatkan','menginginkan','mengira','mengucapkan','mengucapkannya','mengungkapkan','menjadi','menjawab','menjelaskan','menuju','menunjuk','menunjuki','menunjukkan','menunjuknya','menurut','menuturkan','menyampaikan','menyangkut','menyatakan','menyebutkan','menyeluruh','menyiapkan','merasa','mereka','merekalah','merupakan','meski','meskipun','meyakini','meyakinkan','minta','mirip','misal','misalkan','misalnya','mula','mulai','mulailah','mulanya','mungkin','mungkinkah','nah','naik','namun','nanti','nantinya','nyaris','nyatanya','oleh','olehnya','pada','padahal','padanya','pak','paling','panjang','pantas','para','pasti','pastilah','penting','pentingnya','per','percuma','perlu','perlukah','perlunya','pernah','persoalan','pertama','pertama-tama','pertanyaan','pertanyakan','pihak','pihaknya','pukul','pula','pun','punya','rasa','rasanya','rata','rupanya','saat','saatnya','saja','sajalah','saling','sama','sama-sama','sambil','sampai','sampai-sampai','sampaikan','sana','sangat','sangatlah','satu','saya','sayalah','se','sebab','sebabnya','sebagai','sebagaimana','sebagainya','sebagian','sebaik','sebaik-baiknya','sebaiknya','sebaliknya','sebanyak','sebegini','sebegitu','sebelum','sebelumnya','sebenarnya','seberapa','sebesar','sebetulnya','sebisanya','sebuah','sebut','sebutlah','sebutnya','secara','secukupnya','sedang','sedangkan','sedemikian','sedikit','sedikitnya','seenaknya','segala','segalanya','segera','seharusnya','sehingga','seingat','sejak','sejauh','sejenak','sejumlah','sekadar','sekadarnya','sekali','sekali-kali','sekalian','sekaligus','sekalipun','sekarang','sekarang','sekecil','seketika','sekiranya','sekitar','sekitarnya','sekurang-kurangnya','sekurangnya','sela','selain','selaku','selalu','selama','selama-lamanya','selamanya','selanjutnya','seluruh','seluruhnya','semacam','semakin','semampu','semampunya','semasa','semasih','semata','semata-mata','semaunya','sementara','semisal','semisalnya','sempat','semua','semuanya','semula','sendiri','sendirian','sendirinya','seolah','seolah-olah','seorang','sepanjang','sepantasnya','sepantasnyalah','seperlunya','seperti','sepertinya','sepihak','sering','seringnya','serta','serupa','sesaat','sesama','sesampai','sesegera','sesekali','seseorang','sesuatu','sesuatunya','sesudah','sesudahnya','setelah','setempat','setengah','seterusnya','setiap','setiba','setibanya','setidak-tidaknya','setidaknya','setinggi','seusai','sewaktu','siap','siapa','siapakah','siapapun','sini','sinilah','soal','soalnya','suatu','sudah','sudahkah','sudahlah','supaya','tadi','tadinya','tahu','tahun','tak','tambah','tambahnya','tampak','tampaknya','tandas','tandasnya','tanpa','tanya','tanyakan','tanyanya','tapi','tegas','tegasnya','telah','tempat','tengah','tentang','tentu','tentulah','tentunya','tepat','terakhir','terasa','terbanyak','terdahulu','terdapat','terdiri','terhadap','terhadapnya','teringat','teringat-ingat','terjadi','terjadilah','terjadinya','terkira','terlalu','terlebih','terlihat','termasuk','ternyata','tersampaikan','tersebut','tersebutlah','tertentu','tertuju','terus','terutama','tetap','tetapi','tiap','tiba','tiba-tiba','tidak','tidakkah','tidaklah','tiga','tinggi','toh','tunjuk','turut','tutur','tuturnya','ucap','ucapnya','ujar','ujarnya','umum','umumnya','ungkap','ungkapnya','untuk','usah','usai','waduh','wah','wahai','waktu','waktunya','walau','walaupun','wong','yaitu','yakin','yakni','yang']\n",
    "\n",
    "sw=[]\n",
    "\n",
    "for conten in PK:\n",
    "    kata= list(filter(lambda x: x not in stopword, conten))\n",
    "    sw.append(kata)\n",
    "\n",
    "df['stopword'] = sw"
   ]
  },
  {
   "cell_type": "markdown",
   "metadata": {},
   "source": [
    "Setelah menghilangkan kata-kata yang tidak penting akan tersisa kata-kata yang penting saja pada data. lalu kita assign algoritma TF dan TF-IDF yang akan digunakan dalam pembuatan keywords"
   ]
  },
  {
   "cell_type": "code",
   "execution_count": 9,
   "metadata": {},
   "outputs": [],
   "source": [
    "#Perhitungan TF dan TF-IDF\n",
    "\n",
    "def tf(word, blob):\n",
    "    return blob.words.count(word) / len(blob.words)\n",
    "\n",
    "def n_containing(word, bloblist):\n",
    "    return sum(1 for blob in bloblist if word in blob)\n",
    "\n",
    "def idf(word, bloblist):\n",
    "    return math.log(len(bloblist) / (1 + n_containing(word, bloblist)))\n",
    "\n",
    "def tfidf(word, blob, bloblist):\n",
    "    return tf(word, blob) * idf(word, bloblist)"
   ]
  },
  {
   "cell_type": "markdown",
   "metadata": {},
   "source": [
    "## Pembuatan Keywords dengan Term Frequency"
   ]
  },
  {
   "cell_type": "markdown",
   "metadata": {},
   "source": [
    "Dalam task ini saya mencoba menggunakan perhitungan term frequency untuk menentukan keywords pada content berita, dimana term frequency akan menampilkan hasil perhitungan dari total kata muncul dibagi dengan total semua kata pada suatu dokumen."
   ]
  },
  {
   "cell_type": "code",
   "execution_count": 10,
   "metadata": {},
   "outputs": [
    {
     "name": "stdout",
     "output_type": "stream",
     "text": [
      "Keywords pada dokumen 1\n",
      "Word: Kepolisian, TF: 0.04587\n",
      "Word: kepolisian, TF: 0.04587\n",
      "Word: orang, TF: 0.0367\n",
      "Word: London, TF: 0.0367\n",
      "Word: kereta, TF: 0.02752\n",
      "Word: Inggris, TF: 0.02752\n",
      "Word: bom, TF: 0.02752\n",
      "Word: ratusan, TF: 0.01835\n",
      "Word: stasiun, TF: 0.01835\n",
      "Word: 22, TF: 0.01835\n",
      "Keywords pada dokumen 2\n",
      "Word: Tol, TF: 0.05042\n",
      "Word: tol, TF: 0.05042\n",
      "Word: Jalan, TF: 0.03782\n",
      "Word: elektronik, TF: 0.03782\n",
      "Word: jalan, TF: 0.03782\n",
      "Word: uang, TF: 0.03361\n",
      "Word: jasa, TF: 0.02101\n",
      "Word: transaksi, TF: 0.02101\n",
      "Word: Jasa, TF: 0.02101\n",
      "Word: maksimal, TF: 0.01681\n",
      "Keywords pada dokumen 3\n",
      "Word: tagar, TF: 0.10638\n",
      "Word: Twitter, TF: 0.04255\n",
      "Word: sosial, TF: 0.03191\n",
      "Word: media, TF: 0.03191\n",
      "Word: 10, TF: 0.03191\n",
      "Word: platform, TF: 0.02128\n",
      "Word: pasca, TF: 0.02128\n",
      "Word: topik, TF: 0.02128\n",
      "Word: 23/8, TF: 0.01064\n",
      "Word: penggunanya, TF: 0.01064\n",
      "Keywords pada dokumen 4\n",
      "Word: Cadangan, TF: 0.07981\n",
      "Word: cadangan, TF: 0.07981\n",
      "Word: BBM, TF: 0.07512\n",
      "Word: nasional, TF: 0.02817\n",
      "Word: Indonesia, TF: 0.02347\n",
      "Word: 25, TF: 0.02347\n",
      "Word: Jepang, TF: 0.01878\n",
      "Word: operasional, TF: 0.01878\n",
      "Word: 1, TF: 0.01408\n",
      "Word: ESDM, TF: 0.01408\n"
     ]
    }
   ],
   "source": [
    "#Membuat keyword dengan perhitungan tf(term frequency)\n",
    "\n",
    "document1 = tb(' '.join(df['stopword'][0]))\n",
    "document2 = tb(' '.join(df['stopword'][1]))\n",
    "document3 = tb(' '.join(df['stopword'][2]))\n",
    "document4 = tb(' '.join(df['stopword'][3]))\n",
    "\n",
    "bloblist = [document1,document2,document3,document4]\n",
    "for i, blob in enumerate(bloblist):\n",
    "    print(\"Keywords pada dokumen {}\".format(i + 1))\n",
    "    scores = {word: tf(word, blob) for word in blob.words}\n",
    "    sorted_words = sorted(scores.items(), key=lambda x: x[1], reverse=True)\n",
    "    for word, score in sorted_words[:10]:\n",
    "        print(\"Word: {}, TF: {}\".format(word, round(score, 5)))"
   ]
  },
  {
   "cell_type": "markdown",
   "metadata": {},
   "source": [
    "## Pembuatan Keywords dengan Term Frequency-Inverse Document Frequency"
   ]
  },
  {
   "cell_type": "markdown",
   "metadata": {},
   "source": [
    "Dalam task ini saya juga mencoba menggunakan perhitungan tf-idf untuk menentukan keywords pada content berita, dimana tf-idf akan menampilkan hasil perhitungan dari total kata muncul dibagi dengan total semua kata pada suatu dokumen yang dibandingkan dengan kemunculan kata di dokumen lain."
   ]
  },
  {
   "cell_type": "code",
   "execution_count": 11,
   "metadata": {},
   "outputs": [
    {
     "name": "stdout",
     "output_type": "stream",
     "text": [
      "Keywords pada dokumen 1\n",
      "Word: Kepolisian, TF-IDF: 0.0318\n",
      "Word: kepolisian, TF-IDF: 0.0318\n",
      "Word: London, TF-IDF: 0.02544\n",
      "Word: kereta, TF-IDF: 0.01908\n",
      "Word: Inggris, TF-IDF: 0.01908\n",
      "Word: bom, TF-IDF: 0.01908\n",
      "Word: ratusan, TF-IDF: 0.01272\n",
      "Word: stasiun, TF-IDF: 0.01272\n",
      "Word: Sedikitnya, TF-IDF: 0.01272\n",
      "Word: Peristiwa, TF-IDF: 0.01272\n",
      "Keywords pada dokumen 2\n",
      "Word: Tol, TF-IDF: 0.03495\n",
      "Word: tol, TF-IDF: 0.03495\n",
      "Word: Jalan, TF-IDF: 0.02621\n",
      "Word: elektronik, TF-IDF: 0.02621\n",
      "Word: jalan, TF-IDF: 0.02621\n",
      "Word: uang, TF-IDF: 0.0233\n",
      "Word: jasa, TF-IDF: 0.01456\n",
      "Word: transaksi, TF-IDF: 0.01456\n",
      "Word: Jasa, TF-IDF: 0.01456\n",
      "Word: maksimal, TF-IDF: 0.01165\n",
      "Keywords pada dokumen 3\n",
      "Word: tagar, TF-IDF: 0.07374\n",
      "Word: Twitter, TF-IDF: 0.0295\n",
      "Word: sosial, TF-IDF: 0.02212\n",
      "Word: media, TF-IDF: 0.02212\n",
      "Word: platform, TF-IDF: 0.01475\n",
      "Word: pasca, TF-IDF: 0.01475\n",
      "Word: topik, TF-IDF: 0.01475\n",
      "Word: 10, TF-IDF: 0.00918\n",
      "Word: 23/8, TF-IDF: 0.00737\n",
      "Word: penggunanya, TF-IDF: 0.00737\n",
      "Keywords pada dokumen 4\n",
      "Word: Cadangan, TF-IDF: 0.05532\n",
      "Word: cadangan, TF-IDF: 0.05532\n",
      "Word: BBM, TF-IDF: 0.05207\n",
      "Word: 25, TF-IDF: 0.01627\n",
      "Word: Jepang, TF-IDF: 0.01302\n",
      "Word: operasional, TF-IDF: 0.01302\n",
      "Word: ESDM, TF-IDF: 0.00976\n",
      "Word: Pak, TF-IDF: 0.00976\n",
      "Word: menyimpan, TF-IDF: 0.00976\n",
      "Word: masuk, TF-IDF: 0.00976\n"
     ]
    }
   ],
   "source": [
    "#Membuat keyword dengan perhitungan tfidf(term frequency-inverse document frequency)\n",
    "\n",
    "document1 = tb(' '.join(df['stopword'][0]))\n",
    "document2 = tb(' '.join(df['stopword'][1]))\n",
    "document3 = tb(' '.join(df['stopword'][2]))\n",
    "document4 = tb(' '.join(df['stopword'][3]))\n",
    "\n",
    "bloblist = [document1,document2,document3,document4]\n",
    "for i, blob in enumerate(bloblist):\n",
    "    print(\"Keywords pada dokumen {}\".format(i + 1))\n",
    "    scores = {word: tfidf(word, blob, bloblist) for word in blob.words}\n",
    "    sorted_words = sorted(scores.items(), key=lambda x: x[1], reverse=True)\n",
    "    for word, score in sorted_words[:10]:\n",
    "        print(\"Word: {}, TF-IDF: {}\".format(word, round(score, 5)))"
   ]
  },
  {
   "cell_type": "markdown",
   "metadata": {},
   "source": [
    "## Evaluasi"
   ]
  },
  {
   "cell_type": "markdown",
   "metadata": {},
   "source": [
    "Hasil dari keyword tersebut berdasarkan hasil dari perhitungan dari Term Frequncy didapatkan dari perhitungan pada dokumen itu sendiri, dan semakin banyak kata yang muncul akan mempunyai nilai yang tinggi.\n",
    "Untuk TF-IDF keakuratanya masih belum bisa di pastikan, dan TF-IDF akan bekerja optimal bila data yang disediakan proporsional serta dengan topik yang berimbang."
   ]
  },
  {
   "cell_type": "markdown",
   "metadata": {},
   "source": [
    "## Future Works\n",
    "- Mencoba metode lain apakah bisa lebih bagus dengan metode tersebut.\n",
    "- Mencoba menambah proses yang diperlukan pada preprocessing data seperti stemming, dan lain sebagainya"
   ]
  }
 ],
 "metadata": {
  "kernelspec": {
   "display_name": "Python 3",
   "language": "python",
   "name": "python3"
  },
  "language_info": {
   "codemirror_mode": {
    "name": "ipython",
    "version": 3
   },
   "file_extension": ".py",
   "mimetype": "text/x-python",
   "name": "python",
   "nbconvert_exporter": "python",
   "pygments_lexer": "ipython3",
   "version": "3.5.4"
  }
 },
 "nbformat": 4,
 "nbformat_minor": 2
}
