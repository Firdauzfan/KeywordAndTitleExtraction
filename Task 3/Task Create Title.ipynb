{
 "cells": [
  {
   "cell_type": "markdown",
   "metadata": {},
   "source": [
    "# Task 3 : Create Title from Content"
   ]
  },
  {
   "cell_type": "markdown",
   "metadata": {},
   "source": [
    "## Load Library"
   ]
  },
  {
   "cell_type": "code",
   "execution_count": 1,
   "metadata": {},
   "outputs": [],
   "source": [
    "import csv,numpy,pandas,nltk\n",
    "from nltk import sent_tokenize, word_tokenize, pos_tag\n",
    "\n",
    "from rake_nltk import Rake"
   ]
  },
  {
   "cell_type": "markdown",
   "metadata": {},
   "source": [
    "## Load Data"
   ]
  },
  {
   "cell_type": "code",
   "execution_count": 2,
   "metadata": {},
   "outputs": [
    {
     "data": {
      "text/html": [
       "<div>\n",
       "<style scoped>\n",
       "    .dataframe tbody tr th:only-of-type {\n",
       "        vertical-align: middle;\n",
       "    }\n",
       "\n",
       "    .dataframe tbody tr th {\n",
       "        vertical-align: top;\n",
       "    }\n",
       "\n",
       "    .dataframe thead th {\n",
       "        text-align: right;\n",
       "    }\n",
       "</style>\n",
       "<table border=\"1\" class=\"dataframe\">\n",
       "  <thead>\n",
       "    <tr style=\"text-align: right;\">\n",
       "      <th></th>\n",
       "      <th>article_id</th>\n",
       "      <th>article_topic</th>\n",
       "      <th>article_content</th>\n",
       "    </tr>\n",
       "  </thead>\n",
       "  <tbody>\n",
       "    <tr>\n",
       "      <th>0</th>\n",
       "      <td>93205794</td>\n",
       "      <td>Internasional</td>\n",
       "      <td>Kepolisian Inggris tengah memburu pelaku yang...</td>\n",
       "    </tr>\n",
       "    <tr>\n",
       "      <th>1</th>\n",
       "      <td>93186698</td>\n",
       "      <td>Ekonomi</td>\n",
       "      <td>Seluruh layanan transaksi di jalan tol akan m...</td>\n",
       "    </tr>\n",
       "    <tr>\n",
       "      <th>2</th>\n",
       "      <td>93191463</td>\n",
       "      <td>Teknologi</td>\n",
       "      <td>\\nHari ini, Rabu (23/8), ternyata menjadi har...</td>\n",
       "    </tr>\n",
       "    <tr>\n",
       "      <th>3</th>\n",
       "      <td>93219292</td>\n",
       "      <td>Ekonomi</td>\n",
       "      <td>Saat ini Indonesia hanya memiliki cadangan ba...</td>\n",
       "    </tr>\n",
       "    <tr>\n",
       "      <th>4</th>\n",
       "      <td>343106</td>\n",
       "      <td>Hiburan</td>\n",
       "      <td>Hari ini, Selasa (1/8), pedangdut Ridho Rhoma...</td>\n",
       "    </tr>\n",
       "  </tbody>\n",
       "</table>\n",
       "</div>"
      ],
      "text/plain": [
       "   article_id  article_topic  \\\n",
       "0    93205794  Internasional   \n",
       "1    93186698        Ekonomi   \n",
       "2    93191463      Teknologi   \n",
       "3    93219292        Ekonomi   \n",
       "4      343106        Hiburan   \n",
       "\n",
       "                                     article_content  \n",
       "0   Kepolisian Inggris tengah memburu pelaku yang...  \n",
       "1   Seluruh layanan transaksi di jalan tol akan m...  \n",
       "2   \\nHari ini, Rabu (23/8), ternyata menjadi har...  \n",
       "3   Saat ini Indonesia hanya memiliki cadangan ba...  \n",
       "4   Hari ini, Selasa (1/8), pedangdut Ridho Rhoma...  "
      ]
     },
     "execution_count": 2,
     "metadata": {},
     "output_type": "execute_result"
    }
   ],
   "source": [
    "#Baca data CSV dengan pandas\n",
    "df = pandas.read_csv('../data/ds_asg_data.csv')\n",
    "\n",
    "df.head()"
   ]
  },
  {
   "cell_type": "code",
   "execution_count": 3,
   "metadata": {},
   "outputs": [
    {
     "name": "stdout",
     "output_type": "stream",
     "text": [
      "article_topic\n",
      "Bisnis             25\n",
      "Bojonegoro        260\n",
      "Ekonomi          1762\n",
      "Haji             1497\n",
      "Health            131\n",
      "Hiburan          1466\n",
      "Horor              50\n",
      "Hukum              85\n",
      "Internasional     741\n",
      "Jakarta            12\n",
      "K-Pop              61\n",
      "KPK                37\n",
      "Kesehatan         195\n",
      "Keuangan           14\n",
      "Lifestyle         572\n",
      "MotoGP             35\n",
      "Obat-obatan        58\n",
      "Otomotif          174\n",
      "Pendidikan         70\n",
      "Personal           81\n",
      "Pilgub Jatim       25\n",
      "Politik           104\n",
      "Regional           35\n",
      "Sains             174\n",
      "Sejarah            70\n",
      "Sepak Bola       1184\n",
      "Sports            435\n",
      "Teknologi         571\n",
      "Travel             76\n",
      "dtype: int64\n"
     ]
    }
   ],
   "source": [
    "#View berdasar topic\n",
    "groupby= df.groupby('article_topic').size()\n",
    "print (groupby)"
   ]
  },
  {
   "cell_type": "markdown",
   "metadata": {},
   "source": [
    "View berdasarkan topik dan didapatkan 29 topik dengan topik Ekonomi mempunyai proporsi paling banyak, dan dapat dilihat data tersebut tidak proporsional"
   ]
  },
  {
   "cell_type": "markdown",
   "metadata": {},
   "source": [
    "Dicek dahulu apakah data terdapat missing value"
   ]
  },
  {
   "cell_type": "code",
   "execution_count": 4,
   "metadata": {},
   "outputs": [
    {
     "name": "stdout",
     "output_type": "stream",
     "text": [
      "(10000,)\n",
      "      article_id  article_topic  article_content\n",
      "0          False          False            False\n",
      "1          False          False            False\n",
      "2          False          False            False\n",
      "3          False          False            False\n",
      "4          False          False            False\n",
      "5          False          False            False\n",
      "6          False          False            False\n",
      "7          False          False            False\n",
      "8          False          False            False\n",
      "9          False          False            False\n",
      "10         False          False            False\n",
      "11         False          False            False\n",
      "12         False          False            False\n",
      "13         False          False            False\n",
      "14         False          False            False\n",
      "15         False          False            False\n",
      "16         False          False            False\n",
      "17         False          False            False\n",
      "18         False          False            False\n",
      "19         False          False            False\n",
      "20         False          False            False\n",
      "21         False          False            False\n",
      "22         False          False            False\n",
      "23         False          False            False\n",
      "24         False          False            False\n",
      "25         False          False            False\n",
      "26         False          False            False\n",
      "27         False          False            False\n",
      "28         False          False            False\n",
      "29         False          False            False\n",
      "...          ...            ...              ...\n",
      "9970       False          False            False\n",
      "9971       False          False            False\n",
      "9972       False          False            False\n",
      "9973       False          False            False\n",
      "9974       False          False            False\n",
      "9975       False          False            False\n",
      "9976       False          False            False\n",
      "9977       False          False            False\n",
      "9978       False          False            False\n",
      "9979       False          False            False\n",
      "9980       False          False            False\n",
      "9981       False          False            False\n",
      "9982       False          False            False\n",
      "9983       False          False            False\n",
      "9984       False          False            False\n",
      "9985       False          False            False\n",
      "9986       False          False            False\n",
      "9987       False          False            False\n",
      "9988       False          False            False\n",
      "9989       False          False            False\n",
      "9990       False          False            False\n",
      "9991       False          False            False\n",
      "9992       False          False            False\n",
      "9993       False          False            False\n",
      "9994       False          False            False\n",
      "9995       False          False            False\n",
      "9996       False          False            False\n",
      "9997       False          False            False\n",
      "9998       False          False            False\n",
      "9999       False          False            False\n",
      "\n",
      "[10000 rows x 3 columns]\n",
      "article_id          0\n",
      "article_topic       0\n",
      "article_content    36\n",
      "dtype: int64\n"
     ]
    }
   ],
   "source": [
    "#Cek data dan normalisasi\n",
    "#cek bila ada yang kosong\n",
    "cek_bentuk= df['article_content'].shape\n",
    "cek_null=df.isnull()\n",
    "cek_jumlah_null=df.isnull().sum()\n",
    "\n",
    "print (cek_bentuk)\n",
    "print (cek_null)\n",
    "print (cek_jumlah_null)"
   ]
  },
  {
   "cell_type": "markdown",
   "metadata": {},
   "source": [
    "Setelah cek data apakah ada data yang null atau tidak, karena ada data yang null/missing value maka perlu dinormalisasi terlebih dahulu."
   ]
  },
  {
   "cell_type": "markdown",
   "metadata": {},
   "source": [
    "Kita hapus data yang terdapat missing value"
   ]
  },
  {
   "cell_type": "code",
   "execution_count": 5,
   "metadata": {},
   "outputs": [
    {
     "name": "stdout",
     "output_type": "stream",
     "text": [
      "(9964,)\n",
      "      article_id  article_topic  article_content\n",
      "0          False          False            False\n",
      "1          False          False            False\n",
      "2          False          False            False\n",
      "3          False          False            False\n",
      "4          False          False            False\n",
      "5          False          False            False\n",
      "6          False          False            False\n",
      "7          False          False            False\n",
      "8          False          False            False\n",
      "9          False          False            False\n",
      "10         False          False            False\n",
      "11         False          False            False\n",
      "12         False          False            False\n",
      "13         False          False            False\n",
      "14         False          False            False\n",
      "15         False          False            False\n",
      "16         False          False            False\n",
      "17         False          False            False\n",
      "18         False          False            False\n",
      "19         False          False            False\n",
      "20         False          False            False\n",
      "21         False          False            False\n",
      "22         False          False            False\n",
      "23         False          False            False\n",
      "24         False          False            False\n",
      "25         False          False            False\n",
      "26         False          False            False\n",
      "27         False          False            False\n",
      "28         False          False            False\n",
      "29         False          False            False\n",
      "...          ...            ...              ...\n",
      "9970       False          False            False\n",
      "9971       False          False            False\n",
      "9972       False          False            False\n",
      "9973       False          False            False\n",
      "9974       False          False            False\n",
      "9975       False          False            False\n",
      "9976       False          False            False\n",
      "9977       False          False            False\n",
      "9978       False          False            False\n",
      "9979       False          False            False\n",
      "9980       False          False            False\n",
      "9981       False          False            False\n",
      "9982       False          False            False\n",
      "9983       False          False            False\n",
      "9984       False          False            False\n",
      "9985       False          False            False\n",
      "9986       False          False            False\n",
      "9987       False          False            False\n",
      "9988       False          False            False\n",
      "9989       False          False            False\n",
      "9990       False          False            False\n",
      "9991       False          False            False\n",
      "9992       False          False            False\n",
      "9993       False          False            False\n",
      "9994       False          False            False\n",
      "9995       False          False            False\n",
      "9996       False          False            False\n",
      "9997       False          False            False\n",
      "9998       False          False            False\n",
      "9999       False          False            False\n",
      "\n",
      "[9964 rows x 3 columns]\n",
      "article_id         0\n",
      "article_topic      0\n",
      "article_content    0\n",
      "dtype: int64\n"
     ]
    }
   ],
   "source": [
    "#Drop/Hapus data yang kosong\n",
    "modifiedData = df.dropna()\n",
    "\n",
    "cek_bentuk= modifiedData['article_content'].shape\n",
    "cek_null=modifiedData.isnull()\n",
    "cek_jumlah_null=modifiedData.isnull().sum()\n",
    "\n",
    "#Save Data yang sudah dimodifikasi ->opsional\n",
    "modifiedData.to_csv('modifiedData.csv',index=False)\n",
    "\n",
    "print (cek_bentuk)\n",
    "print (cek_null)\n",
    "print (cek_jumlah_null)"
   ]
  },
  {
   "cell_type": "markdown",
   "metadata": {},
   "source": [
    "Kita Hapus data yang missing value, maka 36 data yang kosong tersebut dihilangkan. Lalu kita load lagi data yang telah dinormalisasi."
   ]
  },
  {
   "cell_type": "code",
   "execution_count": 6,
   "metadata": {},
   "outputs": [],
   "source": [
    "#Baca data CSV dengan pandas\n",
    "df = pandas.read_csv('modifiedData.csv')\n",
    "Id=df['article_id']\n",
    "Con= df['article_content']\n",
    "Topic = df['article_topic']"
   ]
  },
  {
   "cell_type": "markdown",
   "metadata": {},
   "source": [
    "## Pembuatan Judul Dengan ALgoritma RAKE(Rapid Automatic Keyword Extraction)"
   ]
  },
  {
   "cell_type": "markdown",
   "metadata": {},
   "source": [
    "Setelah itu dilakukan tahap pembuatan judul dengan algoritma rake dimana Rake mengoptimalkan kata kunci yang panjang, yang memberikan frasa akurat"
   ]
  },
  {
   "cell_type": "code",
   "execution_count": 7,
   "metadata": {},
   "outputs": [
    {
     "name": "stdout",
     "output_type": "stream",
     "text": [
      "Judul 1 = penyelidikan juga dilakukan oleh komando pemberantasan terorisme kepolisian london dan badan keamanan dalam negeri inggris mi5\n",
      "Judul 2 = 52 orang tewas dalam ledakan bunuh diri di tiga kereta bawah tanah london dan sebuah bus\n"
     ]
    }
   ],
   "source": [
    "#Pembuatan Judul dengan Rake dan didapatkan frasa yang berisi kata-kata penting dari content\n",
    "\n",
    "r = Rake()\n",
    "\n",
    "r.extract_keywords_from_text(Con[0])\n",
    "\n",
    "Judul1=r.get_ranked_phrases()[0] # Dapatkan frasa judul pertama\n",
    "Judul2=r.get_ranked_phrases()[1] # Dapatkan frasa judul kedua\n",
    "\n",
    "print(\"Judul 1 =\",Judul1)\n",
    "print(\"Judul 2 =\",Judul2)"
   ]
  },
  {
   "cell_type": "markdown",
   "metadata": {},
   "source": [
    "## Evaluasi"
   ]
  },
  {
   "cell_type": "markdown",
   "metadata": {},
   "source": [
    "Rake adalah library ekstraksi kata kunci yang berfokus pada pencarian frase multi-kata yang mengandung kata-kata yang sering muncul. Kelebihan Rake adalah simple dan mudah dalam penggunaan, sedangkan kelemahannya adalah akurasi yang terbatas, perlunya konfigurasi parameter untuk mendapat hasil maksimal."
   ]
  },
  {
   "cell_type": "markdown",
   "metadata": {},
   "source": [
    "## Future Works\n",
    "- Mencoba metode seperti Text Rank lain apakah bisa lebih bagus dengan metode tersebut.\n",
    "- Mencoba menambah proses yang diperlukan pada preprocessing data seperti stemming, dan lain sebagainya"
   ]
  }
 ],
 "metadata": {
  "kernelspec": {
   "display_name": "Python 3",
   "language": "python",
   "name": "python3"
  },
  "language_info": {
   "codemirror_mode": {
    "name": "ipython",
    "version": 3
   },
   "file_extension": ".py",
   "mimetype": "text/x-python",
   "name": "python",
   "nbconvert_exporter": "python",
   "pygments_lexer": "ipython3",
   "version": "3.5.4"
  }
 },
 "nbformat": 4,
 "nbformat_minor": 2
}
